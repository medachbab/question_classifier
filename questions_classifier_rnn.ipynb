{
 "cells": [
  {
   "cell_type": "code",
   "execution_count": null,
   "id": "DAt4NbkaopGE",
   "metadata": {
    "colab": {
     "base_uri": "https://localhost:8080/"
    },
    "executionInfo": {
     "elapsed": 2721,
     "status": "ok",
     "timestamp": 1735078513371,
     "user": {
      "displayName": "moha matrixe",
      "userId": "11939983939502462471"
     },
     "user_tz": -60
    },
    "id": "DAt4NbkaopGE",
    "outputId": "e4438091-5e63-4ffc-bed0-06809762f5a7"
   },
   "outputs": [],
   "source": [
    "# pip install keras_tuner pandas tensorflow scikit-learn distutils-pytest matplotlib"
   ]
  },
  {
   "cell_type": "code",
   "execution_count": 1,
   "id": "e3yDFuszorqf",
   "metadata": {
    "executionInfo": {
     "elapsed": 217,
     "status": "ok",
     "timestamp": 1735079415839,
     "user": {
      "displayName": "moha matrixe",
      "userId": "11939983939502462471"
     },
     "user_tz": -60
    },
    "id": "e3yDFuszorqf"
   },
   "outputs": [
    {
     "name": "stderr",
     "output_type": "stream",
     "text": [
      "2025-01-04 01:23:08.675767: I tensorflow/core/util/port.cc:153] oneDNN custom operations are on. You may see slightly different numerical results due to floating-point round-off errors from different computation orders. To turn them off, set the environment variable `TF_ENABLE_ONEDNN_OPTS=0`.\n",
      "2025-01-04 01:23:08.691477: E external/local_xla/xla/stream_executor/cuda/cuda_fft.cc:477] Unable to register cuFFT factory: Attempting to register factory for plugin cuFFT when one has already been registered\n",
      "WARNING: All log messages before absl::InitializeLog() is called are written to STDERR\n",
      "E0000 00:00:1735950188.711310   15256 cuda_dnn.cc:8310] Unable to register cuDNN factory: Attempting to register factory for plugin cuDNN when one has already been registered\n",
      "E0000 00:00:1735950188.715094   15256 cuda_blas.cc:1418] Unable to register cuBLAS factory: Attempting to register factory for plugin cuBLAS when one has already been registered\n",
      "2025-01-04 01:23:08.727069: I tensorflow/core/platform/cpu_feature_guard.cc:210] This TensorFlow binary is optimized to use available CPU instructions in performance-critical operations.\n",
      "To enable the following instructions: AVX2 AVX512F AVX512_VNNI FMA, in other operations, rebuild TensorFlow with the appropriate compiler flags.\n"
     ]
    }
   ],
   "source": [
    "import pandas as pd\n",
    "import matplotlib.pyplot as plt\n",
    "from sklearn.model_selection import train_test_split\n",
    "from sklearn.utils import shuffle\n",
    "import tensorflow as tf\n",
    "import keras_tuner as kt\n",
    "from tensorflow.keras.models import Sequential\n",
    "from tensorflow.keras import layers\n",
    "from tensorflow.keras.layers import Dense, Embedding, SimpleRNN\n",
    "from tensorflow.keras.preprocessing.text import Tokenizer\n",
    "from tensorflow.keras.preprocessing.sequence import pad_sequences"
   ]
  },
  {
   "cell_type": "code",
   "execution_count": 3,
   "id": "201dbacc-317f-4204-a26d-842ba202f439",
   "metadata": {
    "colab": {
     "base_uri": "https://localhost:8080/",
     "height": 423
    },
    "executionInfo": {
     "elapsed": 11,
     "status": "ok",
     "timestamp": 1735079416610,
     "user": {
      "displayName": "moha matrixe",
      "userId": "11939983939502462471"
     },
     "user_tz": -60
    },
    "id": "201dbacc-317f-4204-a26d-842ba202f439",
    "outputId": "56f289e7-b62f-4256-fe67-7344dcef4e63"
   },
   "outputs": [],
   "source": [
    "data = pd.read_csv(\"scraped_questionsfv.csv\")\n",
    "# data = shuffle(data)\n",
    "# print(data.info())\n",
    "# data=data.drop_duplicates()\n",
    "# data = data.dropna()\n",
    "# print(data.info())"
   ]
  },
  {
   "cell_type": "markdown",
   "id": "1c343cb1",
   "metadata": {},
   "source": [
    "finalistion du preprocesing du data en eliminant les pints d'interogation"
   ]
  },
  {
   "cell_type": "code",
   "execution_count": 4,
   "id": "79b627bf",
   "metadata": {},
   "outputs": [
    {
     "data": {
      "image/png": "[encoded data removed]",
      "text/plain": [
       "<Figure size 500x400 with 1 Axes>"
      ]
     },
     "metadata": {},
     "output_type": "display_data"
    }
   ],
   "source": [
    "efectifs = data[\"personal\"].value_counts()\n",
    "plt.figure(figsize=(5, 4))\n",
    "efectifs.plot(kind='bar')\n",
    "plt.title('Nombre d\\'éléments par classe')\n",
    "plt.xlabel('Classe')\n",
    "plt.ylabel('Nombre d\\'éléments')\n",
    "\n",
    "plt.show()"
   ]
  },
  {
   "cell_type": "markdown",
   "id": "7ff74cc9",
   "metadata": {},
   "source": [
    "on remarque que notre data est bien partitionée entre les deux classes"
   ]
  },
  {
   "cell_type": "code",
   "execution_count": 5,
   "id": "5899afdd-451a-4d13-8c77-cd045275ec5b",
   "metadata": {
    "executionInfo": {
     "elapsed": 12,
     "status": "ok",
     "timestamp": 1735079417460,
     "user": {
      "displayName": "moha matrixe",
      "userId": "11939983939502462471"
     },
     "user_tz": -60
    },
    "id": "5899afdd-451a-4d13-8c77-cd045275ec5b"
   },
   "outputs": [],
   "source": [
    "data['question'] = data['question'].str.replace('?', ' ', regex=False)"
   ]
  },
  {
   "cell_type": "code",
   "execution_count": 6,
   "id": "fda6dde2-8081-4748-aa50-5812ab81ab47",
   "metadata": {
    "colab": {
     "base_uri": "https://localhost:8080/",
     "height": 423
    },
    "executionInfo": {
     "elapsed": 5,
     "status": "ok",
     "timestamp": 1735079418105,
     "user": {
      "displayName": "moha matrixe",
      "userId": "11939983939502462471"
     },
     "user_tz": -60
    },
    "id": "fda6dde2-8081-4748-aa50-5812ab81ab47",
    "outputId": "b2306313-b2f1-4594-f52c-657157b3f2f3"
   },
   "outputs": [
    {
     "data": {
      "text/html": [
       "<div>\n",
       "<style scoped>\n",
       "    .dataframe tbody tr th:only-of-type {\n",
       "        vertical-align: middle;\n",
       "    }\n",
       "\n",
       "    .dataframe tbody tr th {\n",
       "        vertical-align: top;\n",
       "    }\n",
       "\n",
       "    .dataframe thead th {\n",
       "        text-align: right;\n",
       "    }\n",
       "</style>\n",
       "<table border=\"1\" class=\"dataframe\">\n",
       "  <thead>\n",
       "    <tr style=\"text-align: right;\">\n",
       "      <th></th>\n",
       "      <th>Unnamed: 0.1</th>\n",
       "      <th>Unnamed: 0</th>\n",
       "      <th>question</th>\n",
       "      <th>personal</th>\n",
       "    </tr>\n",
       "  </thead>\n",
       "  <tbody>\n",
       "    <tr>\n",
       "      <th>0</th>\n",
       "      <td>6529</td>\n",
       "      <td>48280.0</td>\n",
       "      <td>How do you handle moments when things don’t go...</td>\n",
       "      <td>1</td>\n",
       "    </tr>\n",
       "    <tr>\n",
       "      <th>1</th>\n",
       "      <td>670</td>\n",
       "      <td>878.0</td>\n",
       "      <td>How easy it is to make you fall for someone</td>\n",
       "      <td>1</td>\n",
       "    </tr>\n",
       "    <tr>\n",
       "      <th>2</th>\n",
       "      <td>2446</td>\n",
       "      <td>2339.0</td>\n",
       "      <td>How do you build a successful career</td>\n",
       "      <td>1</td>\n",
       "    </tr>\n",
       "    <tr>\n",
       "      <th>3</th>\n",
       "      <td>4354</td>\n",
       "      <td>1062.0</td>\n",
       "      <td>How different are you from your family</td>\n",
       "      <td>1</td>\n",
       "    </tr>\n",
       "    <tr>\n",
       "      <th>4</th>\n",
       "      <td>6933</td>\n",
       "      <td>88685.0</td>\n",
       "      <td>How do you manage your emotions in high-pressu...</td>\n",
       "      <td>1</td>\n",
       "    </tr>\n",
       "    <tr>\n",
       "      <th>...</th>\n",
       "      <td>...</td>\n",
       "      <td>...</td>\n",
       "      <td>...</td>\n",
       "      <td>...</td>\n",
       "    </tr>\n",
       "    <tr>\n",
       "      <th>6251</th>\n",
       "      <td>4243</td>\n",
       "      <td>1035.0</td>\n",
       "      <td>What animal is on Levi’s logo</td>\n",
       "      <td>0</td>\n",
       "    </tr>\n",
       "    <tr>\n",
       "      <th>6252</th>\n",
       "      <td>2109</td>\n",
       "      <td>2095.0</td>\n",
       "      <td>What is the scientific term for the study of s...</td>\n",
       "      <td>0</td>\n",
       "    </tr>\n",
       "    <tr>\n",
       "      <th>6253</th>\n",
       "      <td>1712</td>\n",
       "      <td>483.0</td>\n",
       "      <td>What is the worst compliment you have ever rec...</td>\n",
       "      <td>1</td>\n",
       "    </tr>\n",
       "    <tr>\n",
       "      <th>6254</th>\n",
       "      <td>4686</td>\n",
       "      <td>3144.0</td>\n",
       "      <td>Where can I find a bus schedule</td>\n",
       "      <td>0</td>\n",
       "    </tr>\n",
       "    <tr>\n",
       "      <th>6255</th>\n",
       "      <td>4696</td>\n",
       "      <td>1945.0</td>\n",
       "      <td>How do you deal with conflict in relationships</td>\n",
       "      <td>1</td>\n",
       "    </tr>\n",
       "  </tbody>\n",
       "</table>\n",
       "<p>6256 rows × 4 columns</p>\n",
       "</div>"
      ],
      "text/plain": [
       "      Unnamed: 0.1  Unnamed: 0  \\\n",
       "0             6529     48280.0   \n",
       "1              670       878.0   \n",
       "2             2446      2339.0   \n",
       "3             4354      1062.0   \n",
       "4             6933     88685.0   \n",
       "...            ...         ...   \n",
       "6251          4243      1035.0   \n",
       "6252          2109      2095.0   \n",
       "6253          1712       483.0   \n",
       "6254          4686      3144.0   \n",
       "6255          4696      1945.0   \n",
       "\n",
       "                                               question  personal  \n",
       "0     How do you handle moments when things don’t go...         1  \n",
       "1          How easy it is to make you fall for someone          1  \n",
       "2                  How do you build a successful career         1  \n",
       "3               How different are you from your family          1  \n",
       "4     How do you manage your emotions in high-pressu...         1  \n",
       "...                                                 ...       ...  \n",
       "6251                     What animal is on Levi’s logo          0  \n",
       "6252  What is the scientific term for the study of s...         0  \n",
       "6253  What is the worst compliment you have ever rec...         1  \n",
       "6254                   Where can I find a bus schedule          0  \n",
       "6255     How do you deal with conflict in relationships         1  \n",
       "\n",
       "[6256 rows x 4 columns]"
      ]
     },
     "execution_count": 6,
     "metadata": {},
     "output_type": "execute_result"
    }
   ],
   "source": [
    "data"
   ]
  },
  {
   "cell_type": "markdown",
   "id": "6a45a9a3-9b92-4256-b2db-43e8873f1ecf",
   "metadata": {
    "id": "6a45a9a3-9b92-4256-b2db-43e8873f1ecf"
   },
   "source": [
    "division des donnés entre les donnés d'entrainement et les données de test:"
   ]
  },
  {
   "cell_type": "code",
   "execution_count": 7,
   "id": "9b1860ed-d377-4c31-90f0-2d3779cfad31",
   "metadata": {
    "executionInfo": {
     "elapsed": 2,
     "status": "ok",
     "timestamp": 1735079419197,
     "user": {
      "displayName": "moha matrixe",
      "userId": "11939983939502462471"
     },
     "user_tz": -60
    },
    "id": "9b1860ed-d377-4c31-90f0-2d3779cfad31"
   },
   "outputs": [],
   "source": [
    "X_train, X_test, y_train, y_test = train_test_split(data[\"question\"],data[\"personal\"], test_size=0.2, random_state=42)"
   ]
  },
  {
   "cell_type": "code",
   "execution_count": 8,
   "id": "c51eeba1-6700-486a-aff5-675271c4bf11",
   "metadata": {
    "colab": {
     "base_uri": "https://localhost:8080/"
    },
    "executionInfo": {
     "elapsed": 5,
     "status": "ok",
     "timestamp": 1735079419814,
     "user": {
      "displayName": "moha matrixe",
      "userId": "11939983939502462471"
     },
     "user_tz": -60
    },
    "id": "c51eeba1-6700-486a-aff5-675271c4bf11",
    "outputId": "5e497520-de71-4737-b420-8680a79aeaa7"
   },
   "outputs": [
    {
     "name": "stdout",
     "output_type": "stream",
     "text": [
      "(5004,)\n",
      "(1252,)\n",
      "(5004,)\n",
      "(1252,)\n"
     ]
    }
   ],
   "source": [
    "print(X_train.shape)\n",
    "print(X_test.shape)\n",
    "print(y_train.shape)\n",
    "print(y_test.shape)"
   ]
  },
  {
   "cell_type": "code",
   "execution_count": 9,
   "id": "c9505e5c-edad-43cf-a4ba-1c0fb8a7397b",
   "metadata": {
    "executionInfo": {
     "elapsed": 3,
     "status": "ok",
     "timestamp": 1735079420479,
     "user": {
      "displayName": "moha matrixe",
      "userId": "11939983939502462471"
     },
     "user_tz": -60
    },
    "id": "c9505e5c-edad-43cf-a4ba-1c0fb8a7397b"
   },
   "outputs": [
    {
     "data": {
      "text/plain": [
       "(array([[  0,   0,   0, ..., 476,  27, 117],\n",
       "        [  0,   0,   0, ..., 141,   5, 315],\n",
       "        [  0,   0,   0, ...,  59, 164, 165],\n",
       "        ...,\n",
       "        [  0,   0,   0, ..., 249, 222, 173],\n",
       "        [  0,   0,   0, ...,  20, 388, 168],\n",
       "        [  0,   0,   0, ..., 292,   8, 798]], dtype=int32),\n",
       " array([[   0,    0,    0, ...,  113,    5,   97],\n",
       "        [   0,    0,    0, ...,   75,   26, 1215],\n",
       "        [   0,    0,    0, ...,   40,  447,  124],\n",
       "        ...,\n",
       "        [   0,    0,    0, ...,  488,   10,  147],\n",
       "        [   0,    0,    0, ...,   46,   10,  676],\n",
       "        [   0,    0,    0, ...,    1, 2147,  316]], dtype=int32))"
      ]
     },
     "execution_count": 9,
     "metadata": {},
     "output_type": "execute_result"
    }
   ],
   "source": [
    "# Tokenize text data\n",
    "tokenizer = Tokenizer(num_words=5000)\n",
    "tokenizer.fit_on_texts(X_train)\n",
    "X_train = pad_sequences(tokenizer.texts_to_sequences(X_train), maxlen=200)\n",
    "X_test = pad_sequences(tokenizer.texts_to_sequences(X_test), maxlen=200)\n",
    "X_train , X_test"
   ]
  },
  {
   "cell_type": "code",
   "execution_count": 10,
   "id": "dc5575aa-55cb-45cf-8626-257b6fc3c016",
   "metadata": {
    "colab": {
     "base_uri": "https://localhost:8080/",
     "height": 421
    },
    "executionInfo": {
     "elapsed": 327,
     "status": "ok",
     "timestamp": 1735079441795,
     "user": {
      "displayName": "moha matrixe",
      "userId": "11939983939502462471"
     },
     "user_tz": -60
    },
    "id": "dc5575aa-55cb-45cf-8626-257b6fc3c016",
    "outputId": "565427ed-f66f-4647-ff2b-7773fd473971"
   },
   "outputs": [
    {
     "name": "stdout",
     "output_type": "stream",
     "text": [
      "416     1\n",
      "4024    0\n",
      "6239    1\n",
      "2572    1\n",
      "564     1\n",
      "       ..\n",
      "3772    0\n",
      "5191    0\n",
      "5226    1\n",
      "5390    1\n",
      "860     1\n",
      "Name: personal, Length: 5004, dtype: int64\n"
     ]
    },
    {
     "data": {
      "text/plain": [
       "pandas.core.series.Series"
      ]
     },
     "execution_count": 10,
     "metadata": {},
     "output_type": "execute_result"
    }
   ],
   "source": [
    "print(y_train)\n",
    "type(y_train)"
   ]
  },
  {
   "cell_type": "markdown",
   "id": "4d0a6200-6d5f-4e29-a70f-6625f67333b7",
   "metadata": {
    "id": "4d0a6200-6d5f-4e29-a70f-6625f67333b7"
   },
   "source": [
    "construire le model:"
   ]
  },
  {
   "cell_type": "code",
   "execution_count": 11,
   "id": "0d5165d7-aa0f-4c02-8ac6-223a45802998",
   "metadata": {
    "colab": {
     "base_uri": "https://localhost:8080/"
    },
    "executionInfo": {
     "elapsed": 327,
     "status": "ok",
     "timestamp": 1735079443947,
     "user": {
      "displayName": "moha matrixe",
      "userId": "11939983939502462471"
     },
     "user_tz": -60
    },
    "id": "0d5165d7-aa0f-4c02-8ac6-223a45802998",
    "outputId": "6851464f-6cf2-4360-babb-e38cb3be13e0"
   },
   "outputs": [
    {
     "name": "stderr",
     "output_type": "stream",
     "text": [
      "/home/natsu/Desktop/mohamed projet/.env/lib/python3.12/site-packages/keras/src/layers/core/embedding.py:90: UserWarning: Argument `input_length` is deprecated. Just remove it.\n",
      "  warnings.warn(\n",
      "W0000 00:00:1735950248.655880   15256 gpu_device.cc:2344] Cannot dlopen some GPU libraries. Please make sure the missing libraries mentioned above are installed properly if you would like to use GPU. Follow the guide at https://www.tensorflow.org/install/gpu for how to download and setup the required libraries for your platform.\n",
      "Skipping registering GPU devices...\n"
     ]
    }
   ],
   "source": [
    "model = Sequential()\n",
    "model.add(Embedding(input_dim=5000, output_dim=128, input_length=200))\n",
    "model.add(SimpleRNN(128, dropout=0.2, recurrent_dropout=0.2))\n",
    "model.add(Dense(1, activation=\"sigmoid\"))"
   ]
  },
  {
   "cell_type": "code",
   "execution_count": 12,
   "id": "9bf7d52a-eb02-4b32-8e64-7fbec4048918",
   "metadata": {
    "colab": {
     "base_uri": "https://localhost:8080/",
     "height": 225
    },
    "executionInfo": {
     "elapsed": 10,
     "status": "ok",
     "timestamp": 1735079444731,
     "user": {
      "displayName": "moha matrixe",
      "userId": "11939983939502462471"
     },
     "user_tz": -60
    },
    "id": "9bf7d52a-eb02-4b32-8e64-7fbec4048918",
    "outputId": "19bdb67e-a665-4d7a-da13-8b86e376e30c"
   },
   "outputs": [
    {
     "data": {
      "text/html": [
       "<pre style=\"white-space:pre;overflow-x:auto;line-height:normal;font-family:Menlo,'DejaVu Sans Mono',consolas,'Courier New',monospace\"><span style=\"font-weight: bold\">Model: \"sequential\"</span>\n",
       "</pre>\n"
      ],
      "text/plain": [
       "\u001b[1mModel: \"sequential\"\u001b[0m\n"
      ]
     },
     "metadata": {},
     "output_type": "display_data"
    },
    {
     "data": {
      "text/html": [
       "<pre style=\"white-space:pre;overflow-x:auto;line-height:normal;font-family:Menlo,'DejaVu Sans Mono',consolas,'Courier New',monospace\">┏━━━━━━━━━━━━━━━━━━━━━━━━━━━━━━━━━┳━━━━━━━━━━━━━━━━━━━━━━━━┳━━━━━━━━━━━━━━━┓\n",
       "┃<span style=\"font-weight: bold\"> Layer (type)                    </span>┃<span style=\"font-weight: bold\"> Output Shape           </span>┃<span style=\"font-weight: bold\">       Param # </span>┃\n",
       "┡━━━━━━━━━━━━━━━━━━━━━━━━━━━━━━━━━╇━━━━━━━━━━━━━━━━━━━━━━━━╇━━━━━━━━━━━━━━━┩\n",
       "│ embedding (<span style=\"color: #0087ff; text-decoration-color: #0087ff\">Embedding</span>)           │ ?                      │   <span style=\"color: #00af00; text-decoration-color: #00af00\">0</span> (unbuilt) │\n",
       "├─────────────────────────────────┼────────────────────────┼───────────────┤\n",
       "│ simple_rnn (<span style=\"color: #0087ff; text-decoration-color: #0087ff\">SimpleRNN</span>)          │ ?                      │   <span style=\"color: #00af00; text-decoration-color: #00af00\">0</span> (unbuilt) │\n",
       "├─────────────────────────────────┼────────────────────────┼───────────────┤\n",
       "│ dense (<span style=\"color: #0087ff; text-decoration-color: #0087ff\">Dense</span>)                   │ ?                      │   <span style=\"color: #00af00; text-decoration-color: #00af00\">0</span> (unbuilt) │\n",
       "└─────────────────────────────────┴────────────────────────┴───────────────┘\n",
       "</pre>\n"
      ],
      "text/plain": [
       "┏━━━━━━━━━━━━━━━━━━━━━━━━━━━━━━━━━┳━━━━━━━━━━━━━━━━━━━━━━━━┳━━━━━━━━━━━━━━━┓\n",
       "┃\u001b[1m \u001b[0m\u001b[1mLayer (type)                   \u001b[0m\u001b[1m \u001b[0m┃\u001b[1m \u001b[0m\u001b[1mOutput Shape          \u001b[0m\u001b[1m \u001b[0m┃\u001b[1m \u001b[0m\u001b[1m      Param #\u001b[0m\u001b[1m \u001b[0m┃\n",
       "┡━━━━━━━━━━━━━━━━━━━━━━━━━━━━━━━━━╇━━━━━━━━━━━━━━━━━━━━━━━━╇━━━━━━━━━━━━━━━┩\n",
       "│ embedding (\u001b[38;5;33mEmbedding\u001b[0m)           │ ?                      │   \u001b[38;5;34m0\u001b[0m (unbuilt) │\n",
       "├─────────────────────────────────┼────────────────────────┼───────────────┤\n",
       "│ simple_rnn (\u001b[38;5;33mSimpleRNN\u001b[0m)          │ ?                      │   \u001b[38;5;34m0\u001b[0m (unbuilt) │\n",
       "├─────────────────────────────────┼────────────────────────┼───────────────┤\n",
       "│ dense (\u001b[38;5;33mDense\u001b[0m)                   │ ?                      │   \u001b[38;5;34m0\u001b[0m (unbuilt) │\n",
       "└─────────────────────────────────┴────────────────────────┴───────────────┘\n"
      ]
     },
     "metadata": {},
     "output_type": "display_data"
    },
    {
     "data": {
      "text/html": [
       "<pre style=\"white-space:pre;overflow-x:auto;line-height:normal;font-family:Menlo,'DejaVu Sans Mono',consolas,'Courier New',monospace\"><span style=\"font-weight: bold\"> Total params: </span><span style=\"color: #00af00; text-decoration-color: #00af00\">0</span> (0.00 B)\n",
       "</pre>\n"
      ],
      "text/plain": [
       "\u001b[1m Total params: \u001b[0m\u001b[38;5;34m0\u001b[0m (0.00 B)\n"
      ]
     },
     "metadata": {},
     "output_type": "display_data"
    },
    {
     "data": {
      "text/html": [
       "<pre style=\"white-space:pre;overflow-x:auto;line-height:normal;font-family:Menlo,'DejaVu Sans Mono',consolas,'Courier New',monospace\"><span style=\"font-weight: bold\"> Trainable params: </span><span style=\"color: #00af00; text-decoration-color: #00af00\">0</span> (0.00 B)\n",
       "</pre>\n"
      ],
      "text/plain": [
       "\u001b[1m Trainable params: \u001b[0m\u001b[38;5;34m0\u001b[0m (0.00 B)\n"
      ]
     },
     "metadata": {},
     "output_type": "display_data"
    },
    {
     "data": {
      "text/html": [
       "<pre style=\"white-space:pre;overflow-x:auto;line-height:normal;font-family:Menlo,'DejaVu Sans Mono',consolas,'Courier New',monospace\"><span style=\"font-weight: bold\"> Non-trainable params: </span><span style=\"color: #00af00; text-decoration-color: #00af00\">0</span> (0.00 B)\n",
       "</pre>\n"
      ],
      "text/plain": [
       "\u001b[1m Non-trainable params: \u001b[0m\u001b[38;5;34m0\u001b[0m (0.00 B)\n"
      ]
     },
     "metadata": {},
     "output_type": "display_data"
    }
   ],
   "source": [
    "model.summary()"
   ]
  },
  {
   "cell_type": "markdown",
   "id": "b98049b2-6c1e-4526-b4f5-2b98f9891427",
   "metadata": {
    "id": "b98049b2-6c1e-4526-b4f5-2b98f9891427"
   },
   "source": [
    "compiler le miodel:"
   ]
  },
  {
   "cell_type": "code",
   "execution_count": 13,
   "id": "001b92cd-e4a6-4fc8-af19-ab57d7674886",
   "metadata": {
    "executionInfo": {
     "elapsed": 212,
     "status": "ok",
     "timestamp": 1735079446420,
     "user": {
      "displayName": "moha matrixe",
      "userId": "11939983939502462471"
     },
     "user_tz": -60
    },
    "id": "001b92cd-e4a6-4fc8-af19-ab57d7674886"
   },
   "outputs": [],
   "source": [
    "# compile the model\n",
    "model.compile(optimizer=tf.keras.optimizers.Adam(learning_rate=0.0001), loss=\"binary_crossentropy\", metrics=[\"accuracy\"])"
   ]
  },
  {
   "cell_type": "code",
   "execution_count": 14,
   "id": "899a5a55-2ff5-484d-a5e5-722b43c7ae2f",
   "metadata": {
    "colab": {
     "base_uri": "https://localhost:8080/"
    },
    "executionInfo": {
     "elapsed": 388897,
     "status": "ok",
     "timestamp": 1735079835927,
     "user": {
      "displayName": "moha matrixe",
      "userId": "11939983939502462471"
     },
     "user_tz": -60
    },
    "id": "899a5a55-2ff5-484d-a5e5-722b43c7ae2f",
    "outputId": "27d8b6b4-59b3-4311-84b4-da0bf1b034e6"
   },
   "outputs": [],
   "source": [
    "# Convert type to numpy array\n",
    "y_train = y_train.to_numpy()\n",
    "y_test = y_test.to_numpy()\n",
    "# Ensure the dtype is correct\n",
    "y_train = y_train.astype('int')\n",
    "y_test = y_test.astype('int')\n",
    "# Convert to a TensorFlow tensor\n",
    "y_train = tf.convert_to_tensor(y_train)\n",
    "y_test = tf.convert_to_tensor(y_test)"
   ]
  },
  {
   "cell_type": "code",
   "execution_count": 15,
   "id": "b7c785c2",
   "metadata": {},
   "outputs": [
    {
     "name": "stdout",
     "output_type": "stream",
     "text": [
      "Epoch 1/35\n",
      "\u001b[1m313/313\u001b[0m \u001b[32m━━━━━━━━━━━━━━━━━━━━\u001b[0m\u001b[37m\u001b[0m \u001b[1m9s\u001b[0m 24ms/step - accuracy: 0.5518 - loss: 0.6948 - val_accuracy: 0.7708 - val_loss: 0.5627\n",
      "Epoch 2/35\n",
      "\u001b[1m313/313\u001b[0m \u001b[32m━━━━━━━━━━━━━━━━━━━━\u001b[0m\u001b[37m\u001b[0m \u001b[1m7s\u001b[0m 23ms/step - accuracy: 0.6978 - loss: 0.5979 - val_accuracy: 0.8482 - val_loss: 0.4517\n",
      "Epoch 3/35\n",
      "\u001b[1m313/313\u001b[0m \u001b[32m━━━━━━━━━━━━━━━━━━━━\u001b[0m\u001b[37m\u001b[0m \u001b[1m8s\u001b[0m 24ms/step - accuracy: 0.8014 - loss: 0.4921 - val_accuracy: 0.9217 - val_loss: 0.3082\n",
      "Epoch 4/35\n",
      "\u001b[1m313/313\u001b[0m \u001b[32m━━━━━━━━━━━━━━━━━━━━\u001b[0m\u001b[37m\u001b[0m \u001b[1m7s\u001b[0m 23ms/step - accuracy: 0.8872 - loss: 0.3638 - val_accuracy: 0.9297 - val_loss: 0.1989\n",
      "Epoch 5/35\n",
      "\u001b[1m313/313\u001b[0m \u001b[32m━━━━━━━━━━━━━━━━━━━━\u001b[0m\u001b[37m\u001b[0m \u001b[1m8s\u001b[0m 24ms/step - accuracy: 0.9173 - loss: 0.2520 - val_accuracy: 0.9449 - val_loss: 0.1440\n",
      "Epoch 6/35\n",
      "\u001b[1m313/313\u001b[0m \u001b[32m━━━━━━━━━━━━━━━━━━━━\u001b[0m\u001b[37m\u001b[0m \u001b[1m8s\u001b[0m 26ms/step - accuracy: 0.9424 - loss: 0.1722 - val_accuracy: 0.9728 - val_loss: 0.1007\n",
      "Epoch 7/35\n",
      "\u001b[1m313/313\u001b[0m \u001b[32m━━━━━━━━━━━━━━━━━━━━\u001b[0m\u001b[37m\u001b[0m \u001b[1m9s\u001b[0m 28ms/step - accuracy: 0.9648 - loss: 0.1230 - val_accuracy: 0.9776 - val_loss: 0.0805\n",
      "Epoch 8/35\n",
      "\u001b[1m313/313\u001b[0m \u001b[32m━━━━━━━━━━━━━━━━━━━━\u001b[0m\u001b[37m\u001b[0m \u001b[1m8s\u001b[0m 27ms/step - accuracy: 0.9697 - loss: 0.1006 - val_accuracy: 0.9800 - val_loss: 0.0675\n",
      "Epoch 9/35\n",
      "\u001b[1m313/313\u001b[0m \u001b[32m━━━━━━━━━━━━━━━━━━━━\u001b[0m\u001b[37m\u001b[0m \u001b[1m8s\u001b[0m 26ms/step - accuracy: 0.9837 - loss: 0.0703 - val_accuracy: 0.9816 - val_loss: 0.0630\n",
      "Epoch 10/35\n",
      "\u001b[1m313/313\u001b[0m \u001b[32m━━━━━━━━━━━━━━━━━━━━\u001b[0m\u001b[37m\u001b[0m \u001b[1m8s\u001b[0m 26ms/step - accuracy: 0.9813 - loss: 0.0665 - val_accuracy: 0.9864 - val_loss: 0.0570\n",
      "Epoch 11/35\n",
      "\u001b[1m313/313\u001b[0m \u001b[32m━━━━━━━━━━━━━━━━━━━━\u001b[0m\u001b[37m\u001b[0m \u001b[1m9s\u001b[0m 28ms/step - accuracy: 0.9841 - loss: 0.0485 - val_accuracy: 0.9880 - val_loss: 0.0538\n",
      "Epoch 12/35\n",
      "\u001b[1m313/313\u001b[0m \u001b[32m━━━━━━━━━━━━━━━━━━━━\u001b[0m\u001b[37m\u001b[0m \u001b[1m8s\u001b[0m 27ms/step - accuracy: 0.9895 - loss: 0.0421 - val_accuracy: 0.9872 - val_loss: 0.0537\n",
      "Epoch 13/35\n",
      "\u001b[1m313/313\u001b[0m \u001b[32m━━━━━━━━━━━━━━━━━━━━\u001b[0m\u001b[37m\u001b[0m \u001b[1m8s\u001b[0m 26ms/step - accuracy: 0.9893 - loss: 0.0403 - val_accuracy: 0.9872 - val_loss: 0.0529\n",
      "Epoch 14/35\n",
      "\u001b[1m313/313\u001b[0m \u001b[32m━━━━━━━━━━━━━━━━━━━━\u001b[0m\u001b[37m\u001b[0m \u001b[1m8s\u001b[0m 26ms/step - accuracy: 0.9897 - loss: 0.0332 - val_accuracy: 0.9888 - val_loss: 0.0508\n",
      "Epoch 15/35\n",
      "\u001b[1m313/313\u001b[0m \u001b[32m━━━━━━━━━━━━━━━━━━━━\u001b[0m\u001b[37m\u001b[0m \u001b[1m9s\u001b[0m 27ms/step - accuracy: 0.9944 - loss: 0.0243 - val_accuracy: 0.9864 - val_loss: 0.0504\n",
      "Epoch 16/35\n",
      "\u001b[1m313/313\u001b[0m \u001b[32m━━━━━━━━━━━━━━━━━━━━\u001b[0m\u001b[37m\u001b[0m \u001b[1m8s\u001b[0m 27ms/step - accuracy: 0.9938 - loss: 0.0226 - val_accuracy: 0.9848 - val_loss: 0.0583\n",
      "Epoch 17/35\n",
      "\u001b[1m313/313\u001b[0m \u001b[32m━━━━━━━━━━━━━━━━━━━━\u001b[0m\u001b[37m\u001b[0m \u001b[1m8s\u001b[0m 26ms/step - accuracy: 0.9917 - loss: 0.0251 - val_accuracy: 0.9832 - val_loss: 0.0609\n",
      "Epoch 18/35\n",
      "\u001b[1m313/313\u001b[0m \u001b[32m━━━━━━━━━━━━━━━━━━━━\u001b[0m\u001b[37m\u001b[0m \u001b[1m8s\u001b[0m 26ms/step - accuracy: 0.9937 - loss: 0.0233 - val_accuracy: 0.9856 - val_loss: 0.0562\n",
      "Epoch 19/35\n",
      "\u001b[1m313/313\u001b[0m \u001b[32m━━━━━━━━━━━━━━━━━━━━\u001b[0m\u001b[37m\u001b[0m \u001b[1m9s\u001b[0m 28ms/step - accuracy: 0.9939 - loss: 0.0168 - val_accuracy: 0.9888 - val_loss: 0.0529\n",
      "Epoch 20/35\n",
      "\u001b[1m313/313\u001b[0m \u001b[32m━━━━━━━━━━━━━━━━━━━━\u001b[0m\u001b[37m\u001b[0m \u001b[1m8s\u001b[0m 27ms/step - accuracy: 0.9931 - loss: 0.0235 - val_accuracy: 0.9880 - val_loss: 0.0520\n",
      "Epoch 21/35\n",
      "\u001b[1m313/313\u001b[0m \u001b[32m━━━━━━━━━━━━━━━━━━━━\u001b[0m\u001b[37m\u001b[0m \u001b[1m8s\u001b[0m 26ms/step - accuracy: 0.9965 - loss: 0.0118 - val_accuracy: 0.9856 - val_loss: 0.0509\n",
      "Epoch 22/35\n",
      "\u001b[1m313/313\u001b[0m \u001b[32m━━━━━━━━━━━━━━━━━━━━\u001b[0m\u001b[37m\u001b[0m \u001b[1m8s\u001b[0m 25ms/step - accuracy: 0.9974 - loss: 0.0100 - val_accuracy: 0.9872 - val_loss: 0.0509\n",
      "Epoch 23/35\n",
      "\u001b[1m313/313\u001b[0m \u001b[32m━━━━━━━━━━━━━━━━━━━━\u001b[0m\u001b[37m\u001b[0m \u001b[1m8s\u001b[0m 27ms/step - accuracy: 0.9979 - loss: 0.0089 - val_accuracy: 0.9872 - val_loss: 0.0512\n",
      "Epoch 24/35\n",
      "\u001b[1m313/313\u001b[0m \u001b[32m━━━━━━━━━━━━━━━━━━━━\u001b[0m\u001b[37m\u001b[0m \u001b[1m8s\u001b[0m 25ms/step - accuracy: 0.9975 - loss: 0.0096 - val_accuracy: 0.9848 - val_loss: 0.0534\n",
      "Epoch 25/35\n",
      "\u001b[1m313/313\u001b[0m \u001b[32m━━━━━━━━━━━━━━━━━━━━\u001b[0m\u001b[37m\u001b[0m \u001b[1m8s\u001b[0m 27ms/step - accuracy: 0.9975 - loss: 0.0087 - val_accuracy: 0.9888 - val_loss: 0.0513\n",
      "Epoch 26/35\n",
      "\u001b[1m313/313\u001b[0m \u001b[32m━━━━━━━━━━━━━━━━━━━━\u001b[0m\u001b[37m\u001b[0m \u001b[1m8s\u001b[0m 27ms/step - accuracy: 0.9975 - loss: 0.0105 - val_accuracy: 0.9880 - val_loss: 0.0486\n",
      "Epoch 27/35\n",
      "\u001b[1m313/313\u001b[0m \u001b[32m━━━━━━━━━━━━━━━━━━━━\u001b[0m\u001b[37m\u001b[0m \u001b[1m8s\u001b[0m 27ms/step - accuracy: 0.9992 - loss: 0.0050 - val_accuracy: 0.9880 - val_loss: 0.0506\n",
      "Epoch 28/35\n",
      "\u001b[1m313/313\u001b[0m \u001b[32m━━━━━━━━━━━━━━━━━━━━\u001b[0m\u001b[37m\u001b[0m \u001b[1m8s\u001b[0m 27ms/step - accuracy: 0.9995 - loss: 0.0040 - val_accuracy: 0.9856 - val_loss: 0.0508\n",
      "Epoch 29/35\n",
      "\u001b[1m313/313\u001b[0m \u001b[32m━━━━━━━━━━━━━━━━━━━━\u001b[0m\u001b[37m\u001b[0m \u001b[1m8s\u001b[0m 26ms/step - accuracy: 0.9988 - loss: 0.0048 - val_accuracy: 0.9848 - val_loss: 0.0511\n",
      "Epoch 30/35\n",
      "\u001b[1m313/313\u001b[0m \u001b[32m━━━━━━━━━━━━━━━━━━━━\u001b[0m\u001b[37m\u001b[0m \u001b[1m8s\u001b[0m 26ms/step - accuracy: 0.9988 - loss: 0.0051 - val_accuracy: 0.9864 - val_loss: 0.0507\n",
      "Epoch 31/35\n",
      "\u001b[1m313/313\u001b[0m \u001b[32m━━━━━━━━━━━━━━━━━━━━\u001b[0m\u001b[37m\u001b[0m \u001b[1m8s\u001b[0m 26ms/step - accuracy: 0.9993 - loss: 0.0036 - val_accuracy: 0.9832 - val_loss: 0.0495\n",
      "Epoch 32/35\n",
      "\u001b[1m313/313\u001b[0m \u001b[32m━━━━━━━━━━━━━━━━━━━━\u001b[0m\u001b[37m\u001b[0m \u001b[1m8s\u001b[0m 26ms/step - accuracy: 0.9986 - loss: 0.0047 - val_accuracy: 0.9864 - val_loss: 0.0501\n",
      "Epoch 33/35\n",
      "\u001b[1m313/313\u001b[0m \u001b[32m━━━━━━━━━━━━━━━━━━━━\u001b[0m\u001b[37m\u001b[0m \u001b[1m8s\u001b[0m 26ms/step - accuracy: 0.9999 - loss: 0.0017 - val_accuracy: 0.9864 - val_loss: 0.0517\n",
      "Epoch 34/35\n",
      "\u001b[1m313/313\u001b[0m \u001b[32m━━━━━━━━━━━━━━━━━━━━\u001b[0m\u001b[37m\u001b[0m \u001b[1m8s\u001b[0m 26ms/step - accuracy: 0.9985 - loss: 0.0040 - val_accuracy: 0.9864 - val_loss: 0.0498\n",
      "Epoch 35/35\n",
      "\u001b[1m313/313\u001b[0m \u001b[32m━━━━━━━━━━━━━━━━━━━━\u001b[0m\u001b[37m\u001b[0m \u001b[1m9s\u001b[0m 27ms/step - accuracy: 0.9992 - loss: 0.0032 - val_accuracy: 0.9856 - val_loss: 0.0512\n"
     ]
    }
   ],
   "source": [
    "# Training the model while saving metric statistics\n",
    "history=model.fit(X_train, y_train, epochs=35, batch_size=16, validation_data=(X_test, y_test))"
   ]
  },
  {
   "cell_type": "code",
   "execution_count": 16,
   "id": "9a09405a-fa77-452d-a761-9fd7814db4f1",
   "metadata": {
    "colab": {
     "base_uri": "https://localhost:8080/",
     "height": 565
    },
    "executionInfo": {
     "elapsed": 834,
     "status": "ok",
     "timestamp": 1735079967348,
     "user": {
      "displayName": "moha matrixe",
      "userId": "11939983939502462471"
     },
     "user_tz": -60
    },
    "id": "9a09405a-fa77-452d-a761-9fd7814db4f1",
    "outputId": "1e81d1c9-af40-40d2-cab8-c68be0f0cf77"
   },
   "outputs": [
    {
     "data": {
      "image/png": "[encoded data removed]",
      "text/plain": [
       "<Figure size 1200x600 with 2 Axes>"
      ]
     },
     "metadata": {},
     "output_type": "display_data"
    }
   ],
   "source": [
    "plt.figure(figsize=(12, 6))\n",
    "\n",
    "# Accuracy plot\n",
    "plt.subplot(1, 2, 1)\n",
    "plt.plot(history.history['accuracy'], label='Training Accuracy')\n",
    "plt.plot(history.history['val_accuracy'], label='Validation Accuracy')\n",
    "plt.title('Accuracy over Epochs')\n",
    "plt.xlabel('Epochs')\n",
    "plt.ylabel('Accuracy')\n",
    "plt.legend()\n",
    "\n",
    "# Loss plot\n",
    "plt.subplot(1, 2, 2)\n",
    "plt.plot(history.history['loss'], label='Training Loss')\n",
    "plt.plot(history.history['val_loss'], label='Validation Loss')\n",
    "plt.title('Loss over Epochs')\n",
    "plt.xlabel('Epochs')\n",
    "plt.ylabel('Loss')\n",
    "plt.legend()\n",
    "\n",
    "# Display the plots\n",
    "plt.tight_layout()\n",
    "plt.show()"
   ]
  },
  {
   "cell_type": "code",
   "execution_count": 19,
   "id": "da0ca092-3ecc-4295-9b1f-5065148f230f",
   "metadata": {
    "colab": {
     "base_uri": "https://localhost:8080/"
    },
    "executionInfo": {
     "elapsed": 861,
     "status": "ok",
     "timestamp": 1735079987375,
     "user": {
      "displayName": "moha matrixe",
      "userId": "11939983939502462471"
     },
     "user_tz": -60
    },
    "id": "da0ca092-3ecc-4295-9b1f-5065148f230f",
    "outputId": "43472d99-1ce0-4127-a709-581043b7b5ea"
   },
   "outputs": [
    {
     "name": "stdout",
     "output_type": "stream",
     "text": [
      "\u001b[1m40/40\u001b[0m \u001b[32m━━━━━━━━━━━━━━━━━━━━\u001b[0m\u001b[37m\u001b[0m \u001b[1m0s\u001b[0m 6ms/step - accuracy: 0.9901 - loss: 0.0225\n",
      "Test Loss: 0.05120379105210304\n",
      "Test Accuracy: 0.9856230020523071\n"
     ]
    }
   ],
   "source": [
    "loss, accuracy = model.evaluate(X_test, y_test)\n",
    "print(f\"Test Loss: {loss}\")\n",
    "print(f\"Test Accuracy: {accuracy}\")"
   ]
  },
  {
   "cell_type": "code",
   "execution_count": 21,
   "id": "8b633a5a",
   "metadata": {},
   "outputs": [
    {
     "name": "stdout",
     "output_type": "stream",
     "text": [
      "\u001b[1m40/40\u001b[0m \u001b[32m━━━━━━━━━━━━━━━━━━━━\u001b[0m\u001b[37m\u001b[0m \u001b[1m0s\u001b[0m 9ms/step\n"
     ]
    }
   ],
   "source": [
    "import numpy as np\n",
    "predictions = model.predict(X_test)\n",
    "y_pred = np.array([1 if i>=0.5 else 0 for i in predictions])\n",
    "y_pred = tf.convert_to_tensor(y_pred)\n"
   ]
  },
  {
   "cell_type": "code",
   "execution_count": 22,
   "id": "6d0085ab",
   "metadata": {},
   "outputs": [
    {
     "name": "stdout",
     "output_type": "stream",
     "text": [
      "Accuracy: 0.9856230031948882\n",
      "\n",
      "Classification Report:\n",
      "               precision    recall  f1-score   support\n",
      "\n",
      "           0       0.98      0.99      0.98       595\n",
      "           1       0.99      0.98      0.99       657\n",
      "\n",
      "    accuracy                           0.99      1252\n",
      "   macro avg       0.99      0.99      0.99      1252\n",
      "weighted avg       0.99      0.99      0.99      1252\n",
      "\n"
     ]
    }
   ],
   "source": [
    "from sklearn.metrics import classification_report, accuracy_score, confusion_matrix, ConfusionMatrixDisplay\n",
    "print(\"Accuracy:\", accuracy_score(y_test, y_pred))\n",
    "print(\"\\nClassification Report:\\n\", classification_report(y_test, y_pred))"
   ]
  },
  {
   "cell_type": "code",
   "execution_count": 23,
   "id": "12f5d949",
   "metadata": {},
   "outputs": [
    {
     "data": {
      "image/png": "[encoded data removed]",
      "text/plain": [
       "<Figure size 640x480 with 2 Axes>"
      ]
     },
     "metadata": {},
     "output_type": "display_data"
    }
   ],
   "source": [
    "cm = confusion_matrix(y_test, y_pred)\n",
    "\n",
    "# Plot confusion matrix\n",
    "disp = ConfusionMatrixDisplay(confusion_matrix=cm, display_labels=['Non-Personal', 'Personal'])\n",
    "disp.plot(cmap=plt.cm.Blues)\n",
    "plt.title(\"Confusion Matrix\")\n",
    "plt.show()"
   ]
  },
  {
   "cell_type": "code",
   "execution_count": 18,
   "id": "7285f63b",
   "metadata": {},
   "outputs": [],
   "source": [
    "# Defining a function for prediction\n",
    "def predict_question(question):\n",
    "  # tokenize and pad the review\n",
    "  sequence = tokenizer.texts_to_sequences([question])\n",
    "  padded_sequence = pad_sequences(sequence, maxlen=200)\n",
    "  prediction = model.predict(padded_sequence)\n",
    "  result = \"personal\" if prediction[0][0] > 0.5 else \"not personal\"\n",
    "  return result"
   ]
  },
  {
   "cell_type": "code",
   "execution_count": 19,
   "id": "94ff5cf5",
   "metadata": {},
   "outputs": [
    {
     "name": "stdout",
     "output_type": "stream",
     "text": [
      "\u001b[1m1/1\u001b[0m \u001b[32m━━━━━━━━━━━━━━━━━━━━\u001b[0m\u001b[37m\u001b[0m \u001b[1m0s\u001b[0m 156ms/step\n",
      "this question is: not personal\n"
     ]
    }
   ],
   "source": [
    "# Trying the model with an example question\n",
    "new_review = \"what's the bayes theorem?\"\n",
    "r= predict_question(new_review)\n",
    "print(f\"this question is: {r}\")"
   ]
  },
  {
   "cell_type": "code",
   "execution_count": 20,
   "id": "f84fc635",
   "metadata": {},
   "outputs": [
    {
     "name": "stdout",
     "output_type": "stream",
     "text": [
      "\u001b[1m1/1\u001b[0m \u001b[32m━━━━━━━━━━━━━━━━━━━━\u001b[0m\u001b[37m\u001b[0m \u001b[1m0s\u001b[0m 37ms/step\n",
      "this question is: personal\n"
     ]
    }
   ],
   "source": [
    "# Trying with a personal question\n",
    "new_review = \"what's the name of your parents?\"\n",
    "r= predict_question(new_review)\n",
    "print(f\"this question is: {r}\")"
   ]
  },
  {
   "cell_type": "code",
   "execution_count": 21,
   "id": "458bb1a0",
   "metadata": {},
   "outputs": [
    {
     "name": "stdout",
     "output_type": "stream",
     "text": [
      "\u001b[1m1/1\u001b[0m \u001b[32m━━━━━━━━━━━━━━━━━━━━\u001b[0m\u001b[37m\u001b[0m \u001b[1m0s\u001b[0m 36ms/step\n",
      "this question is: personal\n"
     ]
    }
   ],
   "source": [
    "# Trying a harder one\n",
    "new_review = \"how much can you process at once?\"\n",
    "r= predict_question(new_review)\n",
    "print(f\"this question is: {r}\")"
   ]
  },
  {
   "cell_type": "code",
   "execution_count": 22,
   "id": "b5fbcc2c",
   "metadata": {},
   "outputs": [
    {
     "name": "stdout",
     "output_type": "stream",
     "text": [
      "\u001b[1m1/1\u001b[0m \u001b[32m━━━━━━━━━━━━━━━━━━━━\u001b[0m\u001b[37m\u001b[0m \u001b[1m0s\u001b[0m 33ms/step\n",
      "this question is: not personal\n"
     ]
    }
   ],
   "source": [
    "# Non personal question\n",
    "new_review = \"Who is the author of Harry Potter?\"\n",
    "r= predict_question(new_review)\n",
    "print(f\"this question is: {r}\")"
   ]
  }
 ],
 "metadata": {
  "accelerator": "GPU",
  "colab": {
   "gpuType": "T4",
   "provenance": []
  },
  "kernelspec": {
   "display_name": ".env",
   "language": "python",
   "name": "python3"
  },
  "language_info": {
   "codemirror_mode": {
    "name": "ipython",
    "version": 3
   },
   "file_extension": ".py",
   "mimetype": "text/x-python",
   "name": "python",
   "nbconvert_exporter": "python",
   "pygments_lexer": "ipython3",
   "version": "3.12.3"
  }
 },
 "nbformat": 4,
 "nbformat_minor": 5
}
